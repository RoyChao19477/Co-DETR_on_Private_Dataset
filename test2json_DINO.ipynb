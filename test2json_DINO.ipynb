{
 "cells": [
  {
   "cell_type": "code",
   "execution_count": null,
   "metadata": {},
   "outputs": [],
   "source": [
    "# In this section, we will have to transform CoDETR-like predictional json file to \n",
    "# sample_submission type."
   ]
  },
  {
   "cell_type": "code",
   "execution_count": 7,
   "metadata": {},
   "outputs": [],
   "source": [
    "# CoDETR output jsono\n",
    "# load test_results.bbox.json\n",
    "import json\n",
    "#with open('test_results.bbox.json') as f:\n",
    "with open('val_results.bbox.json') as f:\n",
    "    data_coDETR = json.load(f)\n",
    "\n",
    "# load sample_submission.json\n",
    "#with open('sample_submission.json', 'r') as f:\n",
    "#    data_submit = json.load(f)\n",
    "\n",
    "# load ID_to_filename.json\n",
    "#with open('test.json', 'r') as f:\n",
    "with open('val.json', 'r') as f:\n",
    "    data_ID = json.load(f)"
   ]
  },
  {
   "cell_type": "code",
   "execution_count": 8,
   "metadata": {},
   "outputs": [],
   "source": [
    "# Merge filename informatino into data_coDETR\n",
    "\n",
    "for idx in range(len(data_coDETR)):\n",
    "  id_coDETR = data_coDETR[idx]['image_id']\n",
    "  assert id_coDETR == data_ID['images'][id_coDETR]['id'], \\\n",
    "    f\"id_coDETR: {id_coDETR} != id_ID: {data_ID['images'][id_coDETR]['id']}\"\n",
    "  data_coDETR[idx]['file_name'] = data_ID['images'][id_coDETR]['file_name']"
   ]
  },
  {
   "cell_type": "code",
   "execution_count": 9,
   "metadata": {},
   "outputs": [],
   "source": [
    "submit = dict()\n",
    "\n",
    "for idx in range( len( data_coDETR )):\n",
    "  fname = data_coDETR[idx]['file_name']\n",
    "  if fname not in submit:\n",
    "    submit[fname] = dict()\n",
    "    submit[fname]['boxes'] = list()\n",
    "    submit[fname]['scores'] = list()\n",
    "    submit[fname]['labels'] = list()\n",
    "  else:\n",
    "    # transfer \n",
    "    bbox = data_coDETR[idx]['bbox']\n",
    "    new_bbox = [bbox[0], bbox[1], bbox[0]+bbox[2], bbox[1]+bbox[3]]\n",
    "\n",
    "    submit[fname]['boxes'].append(new_bbox)\n",
    "    #submit[fname]['boxes'].append(data_coDETR[idx]['bbox'])\n",
    "    submit[fname]['scores'].append(data_coDETR[idx]['score'])\n",
    "    submit[fname]['labels'].append(data_coDETR[idx]['category_id'])\n",
    "\n",
    "# Write final submit file:\n",
    "with open('submission.json', 'w', encoding='utf-8') as f:\n",
    "    json.dump(submit, f, indent=4, ensure_ascii=False)"
   ]
  },
  {
   "cell_type": "code",
   "execution_count": null,
   "metadata": {},
   "outputs": [],
   "source": []
  }
 ],
 "metadata": {
  "kernelspec": {
   "display_name": "py39",
   "language": "python",
   "name": "python3"
  },
  "language_info": {
   "codemirror_mode": {
    "name": "ipython",
    "version": 3
   },
   "file_extension": ".py",
   "mimetype": "text/x-python",
   "name": "python",
   "nbconvert_exporter": "python",
   "pygments_lexer": "ipython3",
   "version": "3.9.12"
  }
 },
 "nbformat": 4,
 "nbformat_minor": 2
}
